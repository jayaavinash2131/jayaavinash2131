{
  "cells": [
    {
      "cell_type": "markdown",
      "metadata": {
        "id": "view-in-github",
        "colab_type": "text"
      },
      "source": [
        "<a href=\"https://colab.research.google.com/github/jayaavinash2131/jayaavinash2131/blob/main/Untitled2.ipynb\" target=\"_parent\"><img src=\"https://colab.research.google.com/assets/colab-badge.svg\" alt=\"Open In Colab\"/></a>"
      ]
    },
    {
      "cell_type": "code",
      "execution_count": null,
      "metadata": {
        "colab": {
          "background_save": true,
          "base_uri": "https://localhost:8080/"
        },
        "id": "pbf_l3wRo-m5",
        "outputId": "e8066da4-65aa-4a68-f1c8-c8b16a0b9bdd"
      },
      "outputs": [
        {
          "output_type": "stream",
          "name": "stdout",
          "text": [
            "Add New Contact\n",
            " View Contacts\n",
            " Search Contact\n",
            " exit\n",
            "\n"
          ]
        }
      ],
      "source": [
        "import json\n",
        "\n",
        "print(\"Add New Contact\\n\",\n",
        "      \"View Contacts\\n\",\n",
        "      \"Search Contact\\n\",\n",
        "      \"exit\\n\")\n",
        "\n",
        "\n",
        "\n",
        "\n",
        "def save_contacts(updated_contacts):\n",
        "    try:\n",
        "        with open(\"contacts.txt\", \"r\") as contacts_file:\n",
        "            existing_data = json.load(contacts_file)\n",
        "\n",
        "    except FileNotFoundError:\n",
        "        existing_data = {}\n",
        "\n",
        "\n",
        "    existing_data.update(updated_contacts)\n",
        "\n",
        "\n",
        "    with open(\"contacts.txt\", \"w\") as contacts_file:\n",
        "        json.dump(existing_data, contacts_file)\n",
        "\n",
        "\n",
        "\n",
        "\n",
        "def load_contacts():\n",
        "    try:\n",
        "        with open(\"contacts.txt\", \"r\") as contacts_file:\n",
        "            file_contents = contacts_file.read()\n",
        "            if not file_contents:\n",
        "                return {}\n",
        "\n",
        "            else:\n",
        "                return json.loads(file_contents)\n",
        "    except FileNotFoundError:\n",
        "        return {}\n",
        "\n",
        "\n",
        "\n",
        "\n",
        "\n",
        "def add_new_contact():\n",
        "    name = input(\"contact name: \")\n",
        "    phone_number = int(input(\"contact number: \"))\n",
        "    email = input(\"contact email: \")\n",
        "    print(name, phone_number, email)\n",
        "\n",
        "    contacts[name] = {\n",
        "        'phone': phone_number,\n",
        "        'email': email\n",
        "    }\n",
        "\n",
        "    print(contacts)\n",
        "\n",
        "\n",
        "def show_all_contacts():\n",
        "    print(\"All Contacts\")\n",
        "    for name, details in contacts.items():\n",
        "\n",
        "        print(\"Name: \", name)\n",
        "        print(\"Phone: \", details[\"phone\"])\n",
        "        print(\"Email: \", details[\"email\"])\n",
        "        print('-*-' * 10)\n",
        "\n",
        "\n",
        "def search_by_name():\n",
        "    search = input(\"name: \")\n",
        "    if search in contacts:\n",
        "\n",
        "        print('name: ', search)\n",
        "        print('Phone: ', contacts[search].get('phone'))\n",
        "        print('email: ', contacts[search].get('email'))\n",
        "\n",
        "\n",
        "contacts = load_contacts()\n",
        "\n",
        "while True:\n",
        "\n",
        "    operation = input(\"Enter your operation from the menu: \")\n",
        "\n",
        "    if operation == 'Add New Contact' or operation == 'add new contact':\n",
        "        add_new_contact()\n",
        "    elif operation == \"View Contacts\" or operation == 'view contacts':\n",
        "        show_all_contacts()\n",
        "    elif operation == \"Search Contact\" or operation == \"search contact\":\n",
        "        search_by_name()\n",
        "    elif operation == \"Exit\" or operation == \"exit\":\n",
        "        save_contacts(contacts)\n",
        "        print('contacts saved')\n",
        "        break\n",
        "    else:\n",
        "        print(\"Invalid operation \")"
      ]
    }
  ],
  "metadata": {
    "colab": {
      "provenance": [],
      "authorship_tag": "ABX9TyP5xYXaQzRglWJd4cqkg4Qy",
      "include_colab_link": true
    },
    "kernelspec": {
      "display_name": "Python 3",
      "name": "python3"
    },
    "language_info": {
      "name": "python"
    }
  },
  "nbformat": 4,
  "nbformat_minor": 0
}